{
 "cells": [
  {
   "cell_type": "markdown",
   "id": "f2aa4d30",
   "metadata": {},
   "source": [
    "# Predicción del Precio de Cierre de la Acción de Google\n",
    "Este análisis utiliza datos históricos de precios de acciones de Google (Alphabet Inc.) para construir un modelo predictivo que estime el precio de cierre del siguiente día hábil utilizando regresión lineal."
   ]
  },
  {
   "cell_type": "markdown",
   "id": "686d4bf5",
   "metadata": {},
   "source": [
    "## Carga de Librerías y Datos\n",
    "Se importan las bibliotecas necesarias para el análisis, visualización y modelado predictivo."
   ]
  },
  {
   "cell_type": "code",
   "execution_count": null,
   "id": "66b43877",
   "metadata": {},
   "outputs": [],
   "source": [
    "import pandas as pd\n",
    "import matplotlib.pyplot as plt\n",
    "import seaborn as sns\n",
    "from sklearn.model_selection import train_test_split\n",
    "from sklearn.linear_model import LinearRegression\n",
    "from sklearn.metrics import mean_squared_error, r2_score\n",
    "\n",
    "# Carga de datos\n",
    "df = pd.read_csv('Google_stock_data.csv')"
   ]
  },
  {
   "cell_type": "markdown",
   "id": "510012c5",
   "metadata": {},
   "source": [
    "## Revisión Inicial y Limpieza\n",
    "Visualizamos los primeros registros, verificamos información básica y convertimos la columna de fecha."
   ]
  },
  {
   "cell_type": "code",
   "execution_count": null,
   "id": "4082e0a7",
   "metadata": {},
   "outputs": [],
   "source": [
    "print(df.head())\n",
    "print(df.info())\n",
    "print('Valores nulos por columna:', df.isnull().sum())\n",
    "\n",
    "df['Date'] = pd.to_datetime(df['Date'])\n",
    "df.sort_values('Date', inplace=True)\n",
    "df.reset_index(drop=True, inplace=True)\n",
    "print(df.head())"
   ]
  },
  {
   "cell_type": "markdown",
   "id": "35dcf31f",
   "metadata": {},
   "source": [
    "## Evolución del Precio de Cierre\n",
    "Se grafica cómo ha cambiado el precio de cierre de la acción a lo largo del tiempo."
   ]
  },
  {
   "cell_type": "code",
   "execution_count": null,
   "id": "65de47a8",
   "metadata": {},
   "outputs": [],
   "source": [
    "sns.set_theme(style='darkgrid')\n",
    "plt.figure(figsize=(14, 6))\n",
    "plt.plot(df['Date'], df['Close'], color='blue', linewidth=2)\n",
    "plt.title('Precio de Cierre de la Acción de Google a lo largo del tiempo', fontsize=16)\n",
    "plt.xlabel('Fecha')\n",
    "plt.ylabel('Precio de Cierre (USD)')\n",
    "plt.tight_layout()\n",
    "plt.show()"
   ]
  },
  {
   "cell_type": "markdown",
   "id": "07b6e786",
   "metadata": {},
   "source": [
    "## Rango Diario de Precios\n",
    "Se crea una nueva variable que representa la diferencia entre el precio más alto y más bajo de cada día."
   ]
  },
  {
   "cell_type": "code",
   "execution_count": null,
   "id": "4a668fe5",
   "metadata": {},
   "outputs": [],
   "source": [
    "df['Range'] = df['High'] - df['Low']\n",
    "plt.figure(figsize=(14, 4))\n",
    "plt.plot(df['Date'], df['Range'], color='orange')\n",
    "plt.title('Rango Diario de Precios (High - Low)', fontsize=16)\n",
    "plt.xlabel('Fecha')\n",
    "plt.ylabel('Rango')\n",
    "plt.tight_layout()\n",
    "plt.show()"
   ]
  },
  {
   "cell_type": "markdown",
   "id": "5e53675c",
   "metadata": {},
   "source": [
    "## Matriz de Correlación\n",
    "Exploramos la correlación entre las variables principales del mercado para entender su relación."
   ]
  },
  {
   "cell_type": "code",
   "execution_count": null,
   "id": "67e6fcd0",
   "metadata": {},
   "outputs": [],
   "source": [
    "plt.figure(figsize=(8, 6))\n",
    "corr = df[['Open', 'High', 'Low', 'Close', 'Volume']].corr()\n",
    "sns.heatmap(corr, annot=True, cmap='coolwarm', fmt='.2f')\n",
    "plt.title('Matriz de Correlación entre Variables')\n",
    "plt.tight_layout()\n",
    "plt.show()"
   ]
  },
  {
   "cell_type": "markdown",
   "id": "f178b303",
   "metadata": {},
   "source": [
    "## Distribución del Precio de Cierre\n",
    "Visualizamos la distribución del precio de cierre para entender su comportamiento general."
   ]
  },
  {
   "cell_type": "code",
   "execution_count": null,
   "id": "17559f61",
   "metadata": {},
   "outputs": [],
   "source": [
    "plt.figure(figsize=(10, 4))\n",
    "sns.histplot(df['Close'], bins=50, kde=True, color='green')\n",
    "plt.title('Distribución del Precio de Cierre')\n",
    "plt.xlabel('Precio de Cierre')\n",
    "plt.ylabel('Frecuencia')\n",
    "plt.tight_layout()\n",
    "plt.show()"
   ]
  },
  {
   "cell_type": "markdown",
   "id": "5402e84e",
   "metadata": {},
   "source": [
    "## Preparación de los Datos para el Modelo\n",
    "Creamos la columna objetivo `Target`, que representa el precio de cierre del siguiente día, y eliminamos registros nulos."
   ]
  },
  {
   "cell_type": "code",
   "execution_count": null,
   "id": "9995cf06",
   "metadata": {},
   "outputs": [],
   "source": [
    "df['Target'] = df['Close'].shift(-1)\n",
    "df = df.dropna().reset_index(drop=True)\n",
    "X = df[['Open', 'High', 'Low', 'Close', 'Volume']]\n",
    "y = df['Target']"
   ]
  },
  {
   "cell_type": "markdown",
   "id": "6056589a",
   "metadata": {},
   "source": [
    "## Entrenamiento del Modelo\n",
    "Entrenamos un modelo de regresión lineal para predecir el precio de cierre del siguiente día."
   ]
  },
  {
   "cell_type": "code",
   "execution_count": null,
   "id": "0255bbba",
   "metadata": {},
   "outputs": [],
   "source": [
    "X_train, X_test, y_train, y_test = train_test_split(X, y, test_size=0.2, shuffle=False)\n",
    "model = LinearRegression()\n",
    "model.fit(X_train, y_train)\n",
    "y_pred = model.predict(X_test)\n",
    "\n",
    "mse = mean_squared_error(y_test, y_pred)\n",
    "r2 = r2_score(y_test, y_pred)\n",
    "print(f\"MSE: {mse:.2f}\")\n",
    "print(f\"R²: {r2:.4f}\")"
   ]
  },
  {
   "cell_type": "markdown",
   "id": "fba08035",
   "metadata": {},
   "source": [
    "## Comparación de Resultados\n",
    "Comparamos visualmente los valores reales con los valores predichos por el modelo."
   ]
  },
  {
   "cell_type": "code",
   "execution_count": null,
   "id": "054d961b",
   "metadata": {},
   "outputs": [],
   "source": [
    "plt.figure(figsize=(12, 5))\n",
    "plt.plot(y_test.values, label='Valor real')\n",
    "plt.plot(y_pred, label='Predicción', alpha=0.7)\n",
    "plt.title('Comparación: Precio de Cierre Real vs. Predicho')\n",
    "plt.xlabel('Días')\n",
    "plt.ylabel('Precio (USD)')\n",
    "plt.legend()\n",
    "plt.tight_layout()\n",
    "plt.show()"
   ]
  }
 ],
 "metadata": {},
 "nbformat": 4,
 "nbformat_minor": 5
}